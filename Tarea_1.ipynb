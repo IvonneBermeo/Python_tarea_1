{
 "cells": [
  {
   "cell_type": "code",
   "execution_count": 1,
   "id": "5ef6e7b9-c027-47b1-85ba-35f369220dfc",
   "metadata": {},
   "outputs": [],
   "source": [
    "import pandas as pd"
   ]
  },
  {
   "cell_type": "code",
   "execution_count": 2,
   "id": "cb7c27dc-6673-48f1-9161-bc0f78a12998",
   "metadata": {},
   "outputs": [],
   "source": [
    "nombre='Ivonne'"
   ]
  },
  {
   "cell_type": "code",
   "execution_count": 3,
   "id": "0becc9b9-c221-40ac-b8e7-c3bb84da0ddf",
   "metadata": {},
   "outputs": [],
   "source": [
    "edad=29"
   ]
  },
  {
   "cell_type": "code",
   "execution_count": 6,
   "id": "313bfa6d-9c73-4811-bbf2-54559d1cffd0",
   "metadata": {},
   "outputs": [
    {
     "name": "stdout",
     "output_type": "stream",
     "text": [
      "Mi nombre es Ivonne y mi edad es 29 años.\n"
     ]
    }
   ],
   "source": [
    "print('Mi nombre es',nombre, 'y mi edad es', edad, 'años.')"
   ]
  },
  {
   "cell_type": "code",
   "execution_count": null,
   "id": "c7bfdcc6-16ac-458d-8347-22d4b23eee6d",
   "metadata": {},
   "outputs": [],
   "source": []
  }
 ],
 "metadata": {
  "kernelspec": {
   "display_name": "Python 3 (ipykernel)",
   "language": "python",
   "name": "python3"
  },
  "language_info": {
   "codemirror_mode": {
    "name": "ipython",
    "version": 3
   },
   "file_extension": ".py",
   "mimetype": "text/x-python",
   "name": "python",
   "nbconvert_exporter": "python",
   "pygments_lexer": "ipython3",
   "version": "3.9.13"
  }
 },
 "nbformat": 4,
 "nbformat_minor": 5
}
